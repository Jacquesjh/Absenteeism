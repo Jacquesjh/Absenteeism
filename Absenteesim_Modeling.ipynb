{
  "nbformat": 4,
  "nbformat_minor": 0,
  "metadata": {
    "colab": {
      "name": "Absenteesim Modeling",
      "provenance": [],
      "mount_file_id": "1eqrqSYxM3nE_3A4lzF-EXyI6kFZZFIlp",
      "authorship_tag": "ABX9TyNln0fNYqUoqj60LxGYPJuh",
      "include_colab_link": true
    },
    "kernelspec": {
      "name": "python3",
      "display_name": "Python 3"
    }
  },
  "cells": [
    {
      "cell_type": "markdown",
      "metadata": {
        "id": "view-in-github",
        "colab_type": "text"
      },
      "source": [
        "<a href=\"https://colab.research.google.com/github/Jacquesjh/Absenteeism/blob/main/Absenteesim_Modeling.ipynb\" target=\"_parent\"><img src=\"https://colab.research.google.com/assets/colab-badge.svg\" alt=\"Open In Colab\"/></a>"
      ]
    },
    {
      "cell_type": "markdown",
      "metadata": {
        "id": "mHhUsdZE85Cr"
      },
      "source": [
        "#Como sempre, começamos verificando nossa pasta de trabalho"
      ]
    },
    {
      "cell_type": "code",
      "metadata": {
        "colab": {
          "base_uri": "https://localhost:8080/"
        },
        "id": "5ExT87EP8le8",
        "outputId": "7b2fc539-1dee-4913-9693-59a3d48c09a2"
      },
      "source": [
        "%cd /content/drive/MyDrive/Machine Learning/Absenteeism"
      ],
      "execution_count": 15,
      "outputs": [
        {
          "output_type": "stream",
          "text": [
            "/content/drive/MyDrive/Machine Learning/Absenteeism\n"
          ],
          "name": "stdout"
        }
      ]
    },
    {
      "cell_type": "markdown",
      "metadata": {
        "id": "kqaZquJG_gXH"
      },
      "source": [
        "#Agora podemos importar as bibliotecas que usaremos"
      ]
    },
    {
      "cell_type": "code",
      "metadata": {
        "id": "UD82vP1G9H3P"
      },
      "source": [
        "import pandas as pd\r\n",
        "import numpy as np"
      ],
      "execution_count": 16,
      "outputs": []
    },
    {
      "cell_type": "markdown",
      "metadata": {
        "id": "CE7EdJP9_2Pa"
      },
      "source": [
        "#Podemos importar nossos dados pré processados"
      ]
    },
    {
      "cell_type": "code",
      "metadata": {
        "id": "2doQmHHbJSRJ"
      },
      "source": [
        "npz = np.load('Absenteeism_train_data.npz')\r\n",
        "\r\n",
        "train_inputs = npz['inputs']\r\n",
        "train_targets = npz['targets']"
      ],
      "execution_count": 17,
      "outputs": []
    },
    {
      "cell_type": "code",
      "metadata": {
        "id": "xkdqbryCdGI2"
      },
      "source": [
        "npz = np.load('Absenteeism_validation_data.npz')\r\n",
        "\r\n",
        "validation_inputs = npz['inputs']\r\n",
        "validation_targets = npz['targets']"
      ],
      "execution_count": 18,
      "outputs": []
    },
    {
      "cell_type": "code",
      "metadata": {
        "id": "4w-vM2WKem2c"
      },
      "source": [
        "npz = np.load('Absenteeism_test_data.npz')\r\n",
        "\r\n",
        "test_inputs = npz['inputs']\r\n",
        "test_targets = npz['targets']"
      ],
      "execution_count": 19,
      "outputs": []
    },
    {
      "cell_type": "code",
      "metadata": {
        "id": "3ZusIQaQspNW"
      },
      "source": [
        "train_inputs = np.concatenate((train_inputs, validation_inputs))"
      ],
      "execution_count": 20,
      "outputs": []
    },
    {
      "cell_type": "code",
      "metadata": {
        "id": "X814STGntSv-"
      },
      "source": [
        "train_targets = np.concatenate((train_targets, validation_targets))"
      ],
      "execution_count": 21,
      "outputs": []
    },
    {
      "cell_type": "markdown",
      "metadata": {
        "id": "H5_d0REagYKL"
      },
      "source": [
        "#Nosso modelo será um regressor logistico, iremos importá-lo do módulo de Sklearn."
      ]
    },
    {
      "cell_type": "code",
      "metadata": {
        "id": "1KgriE_WhDlx"
      },
      "source": [
        "from sklearn.linear_model import LogisticRegressionCV\r\n",
        "from sklearn import metrics"
      ],
      "execution_count": 22,
      "outputs": []
    },
    {
      "cell_type": "code",
      "metadata": {
        "id": "P5O6T2ayr_VS"
      },
      "source": [
        "reg = LogisticRegressionCV()"
      ],
      "execution_count": 23,
      "outputs": []
    },
    {
      "cell_type": "code",
      "metadata": {
        "colab": {
          "base_uri": "https://localhost:8080/"
        },
        "id": "6fnUQg6hsOeb",
        "outputId": "f6b206aa-3baa-4837-d2f4-ea8a00c43492"
      },
      "source": [
        "reg.fit(train_inputs, train_targets)"
      ],
      "execution_count": 24,
      "outputs": [
        {
          "output_type": "execute_result",
          "data": {
            "text/plain": [
              "LogisticRegressionCV(Cs=10, class_weight=None, cv=None, dual=False,\n",
              "                     fit_intercept=True, intercept_scaling=1.0, l1_ratios=None,\n",
              "                     max_iter=100, multi_class='auto', n_jobs=None,\n",
              "                     penalty='l2', random_state=None, refit=True, scoring=None,\n",
              "                     solver='lbfgs', tol=0.0001, verbose=0)"
            ]
          },
          "metadata": {
            "tags": []
          },
          "execution_count": 24
        }
      ]
    },
    {
      "cell_type": "code",
      "metadata": {
        "colab": {
          "base_uri": "https://localhost:8080/"
        },
        "id": "ruZiPfQ0tiPP",
        "outputId": "28a8518c-137a-4776-f545-9073745da012"
      },
      "source": [
        "reg.score(train_inputs, train_targets)"
      ],
      "execution_count": 25,
      "outputs": [
        {
          "output_type": "execute_result",
          "data": {
            "text/plain": [
              "0.7710651828298887"
            ]
          },
          "metadata": {
            "tags": []
          },
          "execution_count": 25
        }
      ]
    },
    {
      "cell_type": "code",
      "metadata": {
        "id": "k0476eYWtu6-",
        "colab": {
          "base_uri": "https://localhost:8080/"
        },
        "outputId": "2529e813-2af7-4998-e653-5eefb6d4e218"
      },
      "source": [
        "reg.coef_"
      ],
      "execution_count": 26,
      "outputs": [
        {
          "output_type": "execute_result",
          "data": {
            "text/plain": [
              "array([[ 1.64567813e+00,  2.30337716e-01,  1.22247449e+00,\n",
              "         1.00266684e+00, -1.77549508e-01,  7.09075630e-02,\n",
              "         6.86585832e-01, -6.31614221e-02, -1.84242855e-01,\n",
              "         3.71798566e-02,  2.81617742e-01, -6.56816054e-04,\n",
              "         4.53499284e-01, -3.40517119e-01]])"
            ]
          },
          "metadata": {
            "tags": []
          },
          "execution_count": 26
        }
      ]
    },
    {
      "cell_type": "markdown",
      "metadata": {
        "id": "21OvMyTAGbkx"
      },
      "source": [
        "##Podemos organizar estes coeficientes de uma maneira mais simples"
      ]
    },
    {
      "cell_type": "code",
      "metadata": {
        "id": "Z8DIm59uGRdb"
      },
      "source": [
        "coefs = pd.DataFrame(['Reason 1', 'Reason 2', 'Reason 3', 'Reason 4', 'Day of the Week', 'Month Value', 'Transportation Expense', 'Distance to Work', 'Age', 'Daily Work Load Average', 'Body Mass Index', 'Education', 'Childen', 'Pet'],)"
      ],
      "execution_count": 27,
      "outputs": []
    },
    {
      "cell_type": "code",
      "metadata": {
        "id": "70n2GJNeH3hW"
      },
      "source": [
        "coefs.columns = ['Categorias']"
      ],
      "execution_count": 28,
      "outputs": []
    },
    {
      "cell_type": "code",
      "metadata": {
        "id": "v9gU1oUOH8A2"
      },
      "source": [
        "coefs['Coeficientes'] = np.transpose(reg.coef_)"
      ],
      "execution_count": 29,
      "outputs": []
    },
    {
      "cell_type": "code",
      "metadata": {
        "colab": {
          "base_uri": "https://localhost:8080/",
          "height": 483
        },
        "id": "vzt5LyucI0O_",
        "outputId": "401e1ab3-a80f-459e-af4a-1083ccff893e"
      },
      "source": [
        "coefs"
      ],
      "execution_count": 30,
      "outputs": [
        {
          "output_type": "execute_result",
          "data": {
            "text/html": [
              "<div>\n",
              "<style scoped>\n",
              "    .dataframe tbody tr th:only-of-type {\n",
              "        vertical-align: middle;\n",
              "    }\n",
              "\n",
              "    .dataframe tbody tr th {\n",
              "        vertical-align: top;\n",
              "    }\n",
              "\n",
              "    .dataframe thead th {\n",
              "        text-align: right;\n",
              "    }\n",
              "</style>\n",
              "<table border=\"1\" class=\"dataframe\">\n",
              "  <thead>\n",
              "    <tr style=\"text-align: right;\">\n",
              "      <th></th>\n",
              "      <th>Categorias</th>\n",
              "      <th>Coeficientes</th>\n",
              "    </tr>\n",
              "  </thead>\n",
              "  <tbody>\n",
              "    <tr>\n",
              "      <th>0</th>\n",
              "      <td>Reason 1</td>\n",
              "      <td>1.645678</td>\n",
              "    </tr>\n",
              "    <tr>\n",
              "      <th>1</th>\n",
              "      <td>Reason 2</td>\n",
              "      <td>0.230338</td>\n",
              "    </tr>\n",
              "    <tr>\n",
              "      <th>2</th>\n",
              "      <td>Reason 3</td>\n",
              "      <td>1.222474</td>\n",
              "    </tr>\n",
              "    <tr>\n",
              "      <th>3</th>\n",
              "      <td>Reason 4</td>\n",
              "      <td>1.002667</td>\n",
              "    </tr>\n",
              "    <tr>\n",
              "      <th>4</th>\n",
              "      <td>Day of the Week</td>\n",
              "      <td>-0.177550</td>\n",
              "    </tr>\n",
              "    <tr>\n",
              "      <th>5</th>\n",
              "      <td>Month Value</td>\n",
              "      <td>0.070908</td>\n",
              "    </tr>\n",
              "    <tr>\n",
              "      <th>6</th>\n",
              "      <td>Transportation Expense</td>\n",
              "      <td>0.686586</td>\n",
              "    </tr>\n",
              "    <tr>\n",
              "      <th>7</th>\n",
              "      <td>Distance to Work</td>\n",
              "      <td>-0.063161</td>\n",
              "    </tr>\n",
              "    <tr>\n",
              "      <th>8</th>\n",
              "      <td>Age</td>\n",
              "      <td>-0.184243</td>\n",
              "    </tr>\n",
              "    <tr>\n",
              "      <th>9</th>\n",
              "      <td>Daily Work Load Average</td>\n",
              "      <td>0.037180</td>\n",
              "    </tr>\n",
              "    <tr>\n",
              "      <th>10</th>\n",
              "      <td>Body Mass Index</td>\n",
              "      <td>0.281618</td>\n",
              "    </tr>\n",
              "    <tr>\n",
              "      <th>11</th>\n",
              "      <td>Education</td>\n",
              "      <td>-0.000657</td>\n",
              "    </tr>\n",
              "    <tr>\n",
              "      <th>12</th>\n",
              "      <td>Childen</td>\n",
              "      <td>0.453499</td>\n",
              "    </tr>\n",
              "    <tr>\n",
              "      <th>13</th>\n",
              "      <td>Pet</td>\n",
              "      <td>-0.340517</td>\n",
              "    </tr>\n",
              "  </tbody>\n",
              "</table>\n",
              "</div>"
            ],
            "text/plain": [
              "                 Categorias  Coeficientes\n",
              "0                  Reason 1      1.645678\n",
              "1                  Reason 2      0.230338\n",
              "2                  Reason 3      1.222474\n",
              "3                  Reason 4      1.002667\n",
              "4           Day of the Week     -0.177550\n",
              "5               Month Value      0.070908\n",
              "6    Transportation Expense      0.686586\n",
              "7          Distance to Work     -0.063161\n",
              "8                       Age     -0.184243\n",
              "9   Daily Work Load Average      0.037180\n",
              "10          Body Mass Index      0.281618\n",
              "11                Education     -0.000657\n",
              "12                  Childen      0.453499\n",
              "13                      Pet     -0.340517"
            ]
          },
          "metadata": {
            "tags": []
          },
          "execution_count": 30
        }
      ]
    },
    {
      "cell_type": "code",
      "metadata": {
        "id": "jaBxllMRJ0li"
      },
      "source": [
        "coefs.index += 1"
      ],
      "execution_count": 31,
      "outputs": []
    },
    {
      "cell_type": "code",
      "metadata": {
        "id": "biVHjuWCKhXV"
      },
      "source": [
        "coefs.loc[0] = ['Bias', reg.intercept_[0]]"
      ],
      "execution_count": 32,
      "outputs": []
    },
    {
      "cell_type": "code",
      "metadata": {
        "colab": {
          "base_uri": "https://localhost:8080/",
          "height": 514
        },
        "id": "PpKg9cFhKiZf",
        "outputId": "01ba2eb6-172b-4912-c69b-4164f5232ae7"
      },
      "source": [
        "coefs = coefs.sort_index()\r\n",
        "coefs"
      ],
      "execution_count": 33,
      "outputs": [
        {
          "output_type": "execute_result",
          "data": {
            "text/html": [
              "<div>\n",
              "<style scoped>\n",
              "    .dataframe tbody tr th:only-of-type {\n",
              "        vertical-align: middle;\n",
              "    }\n",
              "\n",
              "    .dataframe tbody tr th {\n",
              "        vertical-align: top;\n",
              "    }\n",
              "\n",
              "    .dataframe thead th {\n",
              "        text-align: right;\n",
              "    }\n",
              "</style>\n",
              "<table border=\"1\" class=\"dataframe\">\n",
              "  <thead>\n",
              "    <tr style=\"text-align: right;\">\n",
              "      <th></th>\n",
              "      <th>Categorias</th>\n",
              "      <th>Coeficientes</th>\n",
              "    </tr>\n",
              "  </thead>\n",
              "  <tbody>\n",
              "    <tr>\n",
              "      <th>0</th>\n",
              "      <td>Bias</td>\n",
              "      <td>-0.217284</td>\n",
              "    </tr>\n",
              "    <tr>\n",
              "      <th>1</th>\n",
              "      <td>Reason 1</td>\n",
              "      <td>1.645678</td>\n",
              "    </tr>\n",
              "    <tr>\n",
              "      <th>2</th>\n",
              "      <td>Reason 2</td>\n",
              "      <td>0.230338</td>\n",
              "    </tr>\n",
              "    <tr>\n",
              "      <th>3</th>\n",
              "      <td>Reason 3</td>\n",
              "      <td>1.222474</td>\n",
              "    </tr>\n",
              "    <tr>\n",
              "      <th>4</th>\n",
              "      <td>Reason 4</td>\n",
              "      <td>1.002667</td>\n",
              "    </tr>\n",
              "    <tr>\n",
              "      <th>5</th>\n",
              "      <td>Day of the Week</td>\n",
              "      <td>-0.177550</td>\n",
              "    </tr>\n",
              "    <tr>\n",
              "      <th>6</th>\n",
              "      <td>Month Value</td>\n",
              "      <td>0.070908</td>\n",
              "    </tr>\n",
              "    <tr>\n",
              "      <th>7</th>\n",
              "      <td>Transportation Expense</td>\n",
              "      <td>0.686586</td>\n",
              "    </tr>\n",
              "    <tr>\n",
              "      <th>8</th>\n",
              "      <td>Distance to Work</td>\n",
              "      <td>-0.063161</td>\n",
              "    </tr>\n",
              "    <tr>\n",
              "      <th>9</th>\n",
              "      <td>Age</td>\n",
              "      <td>-0.184243</td>\n",
              "    </tr>\n",
              "    <tr>\n",
              "      <th>10</th>\n",
              "      <td>Daily Work Load Average</td>\n",
              "      <td>0.037180</td>\n",
              "    </tr>\n",
              "    <tr>\n",
              "      <th>11</th>\n",
              "      <td>Body Mass Index</td>\n",
              "      <td>0.281618</td>\n",
              "    </tr>\n",
              "    <tr>\n",
              "      <th>12</th>\n",
              "      <td>Education</td>\n",
              "      <td>-0.000657</td>\n",
              "    </tr>\n",
              "    <tr>\n",
              "      <th>13</th>\n",
              "      <td>Childen</td>\n",
              "      <td>0.453499</td>\n",
              "    </tr>\n",
              "    <tr>\n",
              "      <th>14</th>\n",
              "      <td>Pet</td>\n",
              "      <td>-0.340517</td>\n",
              "    </tr>\n",
              "  </tbody>\n",
              "</table>\n",
              "</div>"
            ],
            "text/plain": [
              "                 Categorias  Coeficientes\n",
              "0                      Bias     -0.217284\n",
              "1                  Reason 1      1.645678\n",
              "2                  Reason 2      0.230338\n",
              "3                  Reason 3      1.222474\n",
              "4                  Reason 4      1.002667\n",
              "5           Day of the Week     -0.177550\n",
              "6               Month Value      0.070908\n",
              "7    Transportation Expense      0.686586\n",
              "8          Distance to Work     -0.063161\n",
              "9                       Age     -0.184243\n",
              "10  Daily Work Load Average      0.037180\n",
              "11          Body Mass Index      0.281618\n",
              "12                Education     -0.000657\n",
              "13                  Childen      0.453499\n",
              "14                      Pet     -0.340517"
            ]
          },
          "metadata": {
            "tags": []
          },
          "execution_count": 33
        }
      ]
    },
    {
      "cell_type": "markdown",
      "metadata": {
        "id": "Ej8yTmheSYDe"
      },
      "source": [
        "##Por definição da classe de Sklearn, este valores de coeficientes representam o resultado em log. Podemos criar um outra coluna que represente valores fora do log"
      ]
    },
    {
      "cell_type": "code",
      "metadata": {
        "id": "26IpJmUqSXaY"
      },
      "source": [
        "coefs['Coeficientes Exponenciais'] = np.exp(coefs.Coeficientes)"
      ],
      "execution_count": 34,
      "outputs": []
    },
    {
      "cell_type": "code",
      "metadata": {
        "colab": {
          "base_uri": "https://localhost:8080/",
          "height": 514
        },
        "id": "QJKcplsAKtCX",
        "outputId": "eba8af04-340e-4ea9-8ddd-a85e62b15f0a"
      },
      "source": [
        "coefs"
      ],
      "execution_count": 35,
      "outputs": [
        {
          "output_type": "execute_result",
          "data": {
            "text/html": [
              "<div>\n",
              "<style scoped>\n",
              "    .dataframe tbody tr th:only-of-type {\n",
              "        vertical-align: middle;\n",
              "    }\n",
              "\n",
              "    .dataframe tbody tr th {\n",
              "        vertical-align: top;\n",
              "    }\n",
              "\n",
              "    .dataframe thead th {\n",
              "        text-align: right;\n",
              "    }\n",
              "</style>\n",
              "<table border=\"1\" class=\"dataframe\">\n",
              "  <thead>\n",
              "    <tr style=\"text-align: right;\">\n",
              "      <th></th>\n",
              "      <th>Categorias</th>\n",
              "      <th>Coeficientes</th>\n",
              "      <th>Coeficientes Exponenciais</th>\n",
              "    </tr>\n",
              "  </thead>\n",
              "  <tbody>\n",
              "    <tr>\n",
              "      <th>0</th>\n",
              "      <td>Bias</td>\n",
              "      <td>-0.217284</td>\n",
              "      <td>0.804701</td>\n",
              "    </tr>\n",
              "    <tr>\n",
              "      <th>1</th>\n",
              "      <td>Reason 1</td>\n",
              "      <td>1.645678</td>\n",
              "      <td>5.184525</td>\n",
              "    </tr>\n",
              "    <tr>\n",
              "      <th>2</th>\n",
              "      <td>Reason 2</td>\n",
              "      <td>0.230338</td>\n",
              "      <td>1.259025</td>\n",
              "    </tr>\n",
              "    <tr>\n",
              "      <th>3</th>\n",
              "      <td>Reason 3</td>\n",
              "      <td>1.222474</td>\n",
              "      <td>3.395580</td>\n",
              "    </tr>\n",
              "    <tr>\n",
              "      <th>4</th>\n",
              "      <td>Reason 4</td>\n",
              "      <td>1.002667</td>\n",
              "      <td>2.725541</td>\n",
              "    </tr>\n",
              "    <tr>\n",
              "      <th>5</th>\n",
              "      <td>Day of the Week</td>\n",
              "      <td>-0.177550</td>\n",
              "      <td>0.837320</td>\n",
              "    </tr>\n",
              "    <tr>\n",
              "      <th>6</th>\n",
              "      <td>Month Value</td>\n",
              "      <td>0.070908</td>\n",
              "      <td>1.073482</td>\n",
              "    </tr>\n",
              "    <tr>\n",
              "      <th>7</th>\n",
              "      <td>Transportation Expense</td>\n",
              "      <td>0.686586</td>\n",
              "      <td>1.986920</td>\n",
              "    </tr>\n",
              "    <tr>\n",
              "      <th>8</th>\n",
              "      <td>Distance to Work</td>\n",
              "      <td>-0.063161</td>\n",
              "      <td>0.938792</td>\n",
              "    </tr>\n",
              "    <tr>\n",
              "      <th>9</th>\n",
              "      <td>Age</td>\n",
              "      <td>-0.184243</td>\n",
              "      <td>0.831734</td>\n",
              "    </tr>\n",
              "    <tr>\n",
              "      <th>10</th>\n",
              "      <td>Daily Work Load Average</td>\n",
              "      <td>0.037180</td>\n",
              "      <td>1.037880</td>\n",
              "    </tr>\n",
              "    <tr>\n",
              "      <th>11</th>\n",
              "      <td>Body Mass Index</td>\n",
              "      <td>0.281618</td>\n",
              "      <td>1.325272</td>\n",
              "    </tr>\n",
              "    <tr>\n",
              "      <th>12</th>\n",
              "      <td>Education</td>\n",
              "      <td>-0.000657</td>\n",
              "      <td>0.999343</td>\n",
              "    </tr>\n",
              "    <tr>\n",
              "      <th>13</th>\n",
              "      <td>Childen</td>\n",
              "      <td>0.453499</td>\n",
              "      <td>1.573810</td>\n",
              "    </tr>\n",
              "    <tr>\n",
              "      <th>14</th>\n",
              "      <td>Pet</td>\n",
              "      <td>-0.340517</td>\n",
              "      <td>0.711402</td>\n",
              "    </tr>\n",
              "  </tbody>\n",
              "</table>\n",
              "</div>"
            ],
            "text/plain": [
              "                 Categorias  Coeficientes  Coeficientes Exponenciais\n",
              "0                      Bias     -0.217284                   0.804701\n",
              "1                  Reason 1      1.645678                   5.184525\n",
              "2                  Reason 2      0.230338                   1.259025\n",
              "3                  Reason 3      1.222474                   3.395580\n",
              "4                  Reason 4      1.002667                   2.725541\n",
              "5           Day of the Week     -0.177550                   0.837320\n",
              "6               Month Value      0.070908                   1.073482\n",
              "7    Transportation Expense      0.686586                   1.986920\n",
              "8          Distance to Work     -0.063161                   0.938792\n",
              "9                       Age     -0.184243                   0.831734\n",
              "10  Daily Work Load Average      0.037180                   1.037880\n",
              "11          Body Mass Index      0.281618                   1.325272\n",
              "12                Education     -0.000657                   0.999343\n",
              "13                  Childen      0.453499                   1.573810\n",
              "14                      Pet     -0.340517                   0.711402"
            ]
          },
          "metadata": {
            "tags": []
          },
          "execution_count": 35
        }
      ]
    },
    {
      "cell_type": "code",
      "metadata": {
        "id": "yrlASFvqTDQg"
      },
      "source": [
        "##Agora podemos representar a importância das categorias por relevância\r\n",
        "coefs = coefs.sort_values('Coeficientes Exponenciais', ascending = False)"
      ],
      "execution_count": 36,
      "outputs": []
    },
    {
      "cell_type": "markdown",
      "metadata": {
        "id": "U32fEyvlVTwQ"
      },
      "source": [
        "##As categorias que mais impactam nosso problema possuem coeficientes o mais diferente de 0. Assim, podemos excluir categorias como 'Education', 'Distance to Work', 'Month Value' e 'Daily Work Load Average'."
      ]
    },
    {
      "cell_type": "code",
      "metadata": {
        "colab": {
          "base_uri": "https://localhost:8080/",
          "height": 390
        },
        "id": "_ZzzmejZWhwK",
        "outputId": "283c845a-2ac9-4165-ccde-34929692974b"
      },
      "source": [
        "coefs.drop([6, 10, 12, 8])"
      ],
      "execution_count": 37,
      "outputs": [
        {
          "output_type": "execute_result",
          "data": {
            "text/html": [
              "<div>\n",
              "<style scoped>\n",
              "    .dataframe tbody tr th:only-of-type {\n",
              "        vertical-align: middle;\n",
              "    }\n",
              "\n",
              "    .dataframe tbody tr th {\n",
              "        vertical-align: top;\n",
              "    }\n",
              "\n",
              "    .dataframe thead th {\n",
              "        text-align: right;\n",
              "    }\n",
              "</style>\n",
              "<table border=\"1\" class=\"dataframe\">\n",
              "  <thead>\n",
              "    <tr style=\"text-align: right;\">\n",
              "      <th></th>\n",
              "      <th>Categorias</th>\n",
              "      <th>Coeficientes</th>\n",
              "      <th>Coeficientes Exponenciais</th>\n",
              "    </tr>\n",
              "  </thead>\n",
              "  <tbody>\n",
              "    <tr>\n",
              "      <th>1</th>\n",
              "      <td>Reason 1</td>\n",
              "      <td>1.645678</td>\n",
              "      <td>5.184525</td>\n",
              "    </tr>\n",
              "    <tr>\n",
              "      <th>3</th>\n",
              "      <td>Reason 3</td>\n",
              "      <td>1.222474</td>\n",
              "      <td>3.395580</td>\n",
              "    </tr>\n",
              "    <tr>\n",
              "      <th>4</th>\n",
              "      <td>Reason 4</td>\n",
              "      <td>1.002667</td>\n",
              "      <td>2.725541</td>\n",
              "    </tr>\n",
              "    <tr>\n",
              "      <th>7</th>\n",
              "      <td>Transportation Expense</td>\n",
              "      <td>0.686586</td>\n",
              "      <td>1.986920</td>\n",
              "    </tr>\n",
              "    <tr>\n",
              "      <th>13</th>\n",
              "      <td>Childen</td>\n",
              "      <td>0.453499</td>\n",
              "      <td>1.573810</td>\n",
              "    </tr>\n",
              "    <tr>\n",
              "      <th>11</th>\n",
              "      <td>Body Mass Index</td>\n",
              "      <td>0.281618</td>\n",
              "      <td>1.325272</td>\n",
              "    </tr>\n",
              "    <tr>\n",
              "      <th>2</th>\n",
              "      <td>Reason 2</td>\n",
              "      <td>0.230338</td>\n",
              "      <td>1.259025</td>\n",
              "    </tr>\n",
              "    <tr>\n",
              "      <th>5</th>\n",
              "      <td>Day of the Week</td>\n",
              "      <td>-0.177550</td>\n",
              "      <td>0.837320</td>\n",
              "    </tr>\n",
              "    <tr>\n",
              "      <th>9</th>\n",
              "      <td>Age</td>\n",
              "      <td>-0.184243</td>\n",
              "      <td>0.831734</td>\n",
              "    </tr>\n",
              "    <tr>\n",
              "      <th>0</th>\n",
              "      <td>Bias</td>\n",
              "      <td>-0.217284</td>\n",
              "      <td>0.804701</td>\n",
              "    </tr>\n",
              "    <tr>\n",
              "      <th>14</th>\n",
              "      <td>Pet</td>\n",
              "      <td>-0.340517</td>\n",
              "      <td>0.711402</td>\n",
              "    </tr>\n",
              "  </tbody>\n",
              "</table>\n",
              "</div>"
            ],
            "text/plain": [
              "                Categorias  Coeficientes  Coeficientes Exponenciais\n",
              "1                 Reason 1      1.645678                   5.184525\n",
              "3                 Reason 3      1.222474                   3.395580\n",
              "4                 Reason 4      1.002667                   2.725541\n",
              "7   Transportation Expense      0.686586                   1.986920\n",
              "13                 Childen      0.453499                   1.573810\n",
              "11         Body Mass Index      0.281618                   1.325272\n",
              "2                 Reason 2      0.230338                   1.259025\n",
              "5          Day of the Week     -0.177550                   0.837320\n",
              "9                      Age     -0.184243                   0.831734\n",
              "0                     Bias     -0.217284                   0.804701\n",
              "14                     Pet     -0.340517                   0.711402"
            ]
          },
          "metadata": {
            "tags": []
          },
          "execution_count": 37
        }
      ]
    },
    {
      "cell_type": "markdown",
      "metadata": {
        "id": "6F1u4XIxXU0G"
      },
      "source": [
        "#Podemos finalmente testar o nosso modelo no nosso test_data"
      ]
    },
    {
      "cell_type": "code",
      "metadata": {
        "colab": {
          "base_uri": "https://localhost:8080/"
        },
        "id": "rbsiLsMzWolI",
        "outputId": "df3ddc1f-84b7-4866-bd39-71fb670b1f3a"
      },
      "source": [
        "reg.score(test_inputs, test_targets)"
      ],
      "execution_count": 38,
      "outputs": [
        {
          "output_type": "execute_result",
          "data": {
            "text/plain": [
              "0.8142857142857143"
            ]
          },
          "metadata": {
            "tags": []
          },
          "execution_count": 38
        }
      ]
    },
    {
      "cell_type": "code",
      "metadata": {
        "id": "9kvOtjmSXinz"
      },
      "source": [
        "predict_prob = reg.predict_proba(test_inputs)"
      ],
      "execution_count": 39,
      "outputs": []
    },
    {
      "cell_type": "code",
      "metadata": {
        "colab": {
          "base_uri": "https://localhost:8080/"
        },
        "id": "FuDUqgw6X3WR",
        "outputId": "55f85b5d-01d1-47d2-eb5a-e50e0240a6ca"
      },
      "source": [
        "predict_prob.shape"
      ],
      "execution_count": 40,
      "outputs": [
        {
          "output_type": "execute_result",
          "data": {
            "text/plain": [
              "(70, 2)"
            ]
          },
          "metadata": {
            "tags": []
          },
          "execution_count": 40
        }
      ]
    },
    {
      "cell_type": "code",
      "metadata": {
        "colab": {
          "base_uri": "https://localhost:8080/"
        },
        "id": "zUuY2C5MX5-Q",
        "outputId": "0b3ddaf7-edac-4549-867f-157caa2d2414"
      },
      "source": [
        "predict_prob[:, 1]"
      ],
      "execution_count": 41,
      "outputs": [
        {
          "output_type": "execute_result",
          "data": {
            "text/plain": [
              "array([0.29949069, 0.26268217, 0.79601296, 0.62142465, 0.02725519,\n",
              "       0.28619184, 0.32525952, 0.15248923, 0.6258141 , 0.66409705,\n",
              "       0.4737961 , 0.91431342, 0.25892413, 0.44085235, 0.7871381 ,\n",
              "       0.17209664, 0.39265449, 0.22083749, 0.28734412, 0.6267798 ,\n",
              "       0.64748258, 0.47849782, 0.20810421, 0.17130168, 0.88118886,\n",
              "       0.3259406 , 0.65275891, 0.5512369 , 0.74188642, 0.26361825,\n",
              "       0.18512828, 0.89829931, 0.73286843, 0.25912684, 0.49560696,\n",
              "       0.49686776, 0.36275631, 0.5962863 , 0.72902536, 0.61608948,\n",
              "       0.62764199, 0.84040986, 0.73565547, 0.4646263 , 0.75946308,\n",
              "       0.11538735, 0.79275895, 0.77750695, 0.61436368, 0.91290527,\n",
              "       0.21924231, 0.73380994, 0.83428633, 0.14470241, 0.37144801,\n",
              "       0.5224835 , 0.48031996, 0.42391447, 0.64918763, 0.52163378,\n",
              "       0.15174261, 0.3108977 , 0.17891217, 0.51785723, 0.14196324,\n",
              "       0.15055359, 0.3754276 , 0.67522255, 0.71597394, 0.45952789])"
            ]
          },
          "metadata": {
            "tags": []
          },
          "execution_count": 41
        }
      ]
    },
    {
      "cell_type": "markdown",
      "metadata": {
        "id": "xP_0XYMIYIEo"
      },
      "source": [
        "#Com isso, podemos criar um modelo de regressão logística que consegue determinar com 81% de precisão se um indivíduo ficara excessivamente ausente do trabalho"
      ]
    },
    {
      "cell_type": "markdown",
      "metadata": {
        "id": "4dZvJiPTYahr"
      },
      "source": [
        "#Podemos agora salvar nosso modelo para futuro uso"
      ]
    },
    {
      "cell_type": "code",
      "metadata": {
        "id": "RnRDMH7MYFjX"
      },
      "source": [
        "##A biblioteca pickle salva objetos em Python de forma muito leve\r\n",
        "import pickle"
      ],
      "execution_count": 42,
      "outputs": []
    },
    {
      "cell_type": "code",
      "metadata": {
        "id": "2_xw7g7MYwku"
      },
      "source": [
        "with open('Logistic Regression Model', 'wb') as file:\r\n",
        "  pickle.dump(reg, file)"
      ],
      "execution_count": 43,
      "outputs": []
    },
    {
      "cell_type": "markdown",
      "metadata": {
        "id": "yvQzjLgsZwdq"
      },
      "source": [
        "###DETALHE: Nós JÁ salvamos nosso escalador na parte de pré processamento"
      ]
    }
  ]
}