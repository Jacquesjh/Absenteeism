{
  "nbformat": 4,
  "nbformat_minor": 0,
  "metadata": {
    "colab": {
      "name": "Absenteesim Modeling",
      "provenance": [],
      "mount_file_id": "1eqrqSYxM3nE_3A4lzF-EXyI6kFZZFIlp",
      "authorship_tag": "ABX9TyNWFb8bAJ0UciZvrKBZtGvt",
      "include_colab_link": true
    },
    "kernelspec": {
      "name": "python3",
      "display_name": "Python 3"
    }
  },
  "cells": [
    {
      "cell_type": "markdown",
      "metadata": {
        "id": "view-in-github",
        "colab_type": "text"
      },
      "source": [
        "<a href=\"https://colab.research.google.com/github/Jacquesjh/Absenteeism/blob/main/Absenteesim_Modeling.ipynb\" target=\"_parent\"><img src=\"https://colab.research.google.com/assets/colab-badge.svg\" alt=\"Open In Colab\"/></a>"
      ]
    },
    {
      "cell_type": "markdown",
      "metadata": {
        "id": "mHhUsdZE85Cr"
      },
      "source": [
        "#Como sempre, começamos verificando nossa pasta de trabalho"
      ]
    },
    {
      "cell_type": "code",
      "metadata": {
        "colab": {
          "base_uri": "https://localhost:8080/"
        },
        "id": "5ExT87EP8le8",
        "outputId": "d2db52f1-e421-41e0-e162-8d5660d5435c"
      },
      "source": [
        "%cd /content/drive/MyDrive/Machine Learning/Absenteeism"
      ],
      "execution_count": 65,
      "outputs": [
        {
          "output_type": "stream",
          "text": [
            "/content/drive/MyDrive/Machine Learning/Absenteeism\n"
          ],
          "name": "stdout"
        }
      ]
    },
    {
      "cell_type": "markdown",
      "metadata": {
        "id": "kqaZquJG_gXH"
      },
      "source": [
        "#Agora podemos importar as bibliotecas que usaremos"
      ]
    },
    {
      "cell_type": "code",
      "metadata": {
        "id": "UD82vP1G9H3P"
      },
      "source": [
        "import pandas as pd\r\n",
        "import numpy as np\r\n",
        "import tensorflow as tf"
      ],
      "execution_count": 66,
      "outputs": []
    },
    {
      "cell_type": "markdown",
      "metadata": {
        "id": "CE7EdJP9_2Pa"
      },
      "source": [
        "#Podemos importar nossos dados pré processados"
      ]
    },
    {
      "cell_type": "code",
      "metadata": {
        "id": "2doQmHHbJSRJ"
      },
      "source": [
        "npz = np.load('Absenteeism_train_data.npz')\r\n",
        "\r\n",
        "train_inputs = npz['inputs']\r\n",
        "train_targets = npz['targets']"
      ],
      "execution_count": 79,
      "outputs": []
    },
    {
      "cell_type": "code",
      "metadata": {
        "id": "xkdqbryCdGI2"
      },
      "source": [
        "npz = np.load('Absenteeism_validation_data.npz')\r\n",
        "\r\n",
        "validation_inputs = npz['inputs']\r\n",
        "validation_targets = npz['targets']"
      ],
      "execution_count": 80,
      "outputs": []
    },
    {
      "cell_type": "code",
      "metadata": {
        "id": "4w-vM2WKem2c"
      },
      "source": [
        "npz = np.load('Absenteeism_test_data.npz')\r\n",
        "\r\n",
        "test_inputs = npz['inputs']\r\n",
        "test_targets = npz['targets']"
      ],
      "execution_count": 81,
      "outputs": []
    },
    {
      "cell_type": "code",
      "metadata": {
        "id": "3ZusIQaQspNW"
      },
      "source": [
        "train_inputs = np.concatenate((train_inputs, validation_inputs))"
      ],
      "execution_count": 170,
      "outputs": []
    },
    {
      "cell_type": "code",
      "metadata": {
        "id": "X814STGntSv-"
      },
      "source": [
        "train_targets = np.concatenate((train_targets, validation_targets))"
      ],
      "execution_count": 172,
      "outputs": []
    },
    {
      "cell_type": "markdown",
      "metadata": {
        "id": "H5_d0REagYKL"
      },
      "source": [
        "#Nosso modelo será um regressor logistico, iremos importá-lo do módulo de Sklearn."
      ]
    },
    {
      "cell_type": "code",
      "metadata": {
        "id": "1KgriE_WhDlx"
      },
      "source": [
        "from sklearn.linear_model import LogisticRegressionCV\r\n",
        "from sklearn import metrics"
      ],
      "execution_count": 166,
      "outputs": []
    },
    {
      "cell_type": "code",
      "metadata": {
        "id": "P5O6T2ayr_VS"
      },
      "source": [
        "reg = LogisticRegressionCV()"
      ],
      "execution_count": 167,
      "outputs": []
    },
    {
      "cell_type": "code",
      "metadata": {
        "colab": {
          "base_uri": "https://localhost:8080/"
        },
        "id": "6fnUQg6hsOeb",
        "outputId": "9006c89d-6490-4527-c749-8b74bfcb198a"
      },
      "source": [
        "reg.fit(train_inputs, train_targets)"
      ],
      "execution_count": 173,
      "outputs": [
        {
          "output_type": "execute_result",
          "data": {
            "text/plain": [
              "LogisticRegressionCV(Cs=10, class_weight=None, cv=None, dual=False,\n",
              "                     fit_intercept=True, intercept_scaling=1.0, l1_ratios=None,\n",
              "                     max_iter=100, multi_class='auto', n_jobs=None,\n",
              "                     penalty='l2', random_state=None, refit=True, scoring=None,\n",
              "                     solver='lbfgs', tol=0.0001, verbose=0)"
            ]
          },
          "metadata": {
            "tags": []
          },
          "execution_count": 173
        }
      ]
    },
    {
      "cell_type": "code",
      "metadata": {
        "colab": {
          "base_uri": "https://localhost:8080/"
        },
        "id": "ruZiPfQ0tiPP",
        "outputId": "d9e69b55-daba-41ab-da5d-337df8c49820"
      },
      "source": [
        "reg.score(train_inputs, train_targets)"
      ],
      "execution_count": 174,
      "outputs": [
        {
          "output_type": "execute_result",
          "data": {
            "text/plain": [
              "0.7710651828298887"
            ]
          },
          "metadata": {
            "tags": []
          },
          "execution_count": 174
        }
      ]
    },
    {
      "cell_type": "code",
      "metadata": {
        "id": "k0476eYWtu6-"
      },
      "source": [
        ""
      ],
      "execution_count": null,
      "outputs": []
    }
  ]
}